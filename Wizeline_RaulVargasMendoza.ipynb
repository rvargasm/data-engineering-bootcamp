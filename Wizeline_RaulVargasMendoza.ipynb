{
 "cells": [
  {
   "cell_type": "markdown",
   "id": "d252c647",
   "metadata": {},
   "source": [
    "# Exploratory Data Analysis"
   ]
  },
  {
   "cell_type": "code",
   "execution_count": 1,
   "id": "28fc6161",
   "metadata": {},
   "outputs": [],
   "source": [
    "import pandas as pd\n",
    "import numpy as np\n",
    "import os \n",
    "import seaborn as sns\n",
    "import matplotlib.pyplot as plt\n",
    "from matplotlib.pyplot import figure\n",
    "import dask.dataframe as dd "
   ]
  },
  {
   "cell_type": "markdown",
   "id": "c57ef5b9",
   "metadata": {},
   "source": [
    "### Notes: \n",
    "    a) I worked on two approaches: first with sample dataset and second with entire dataset, both included in this notebook.\n",
    "    b) I intentionally leave some bad code snippets on the notebook just to document failed attempts as well.\n",
    "    c) Take this notebook also as the final report."
   ]
  },
  {
   "cell_type": "markdown",
   "id": "c3eda63b",
   "metadata": {},
   "source": [
    "## First aproach: sample dataset"
   ]
  },
  {
   "cell_type": "markdown",
   "id": "5881d1cf",
   "metadata": {},
   "source": [
    "### Getting file"
   ]
  },
  {
   "cell_type": "code",
   "execution_count": 4,
   "id": "e220adf0",
   "metadata": {},
   "outputs": [
    {
     "data": {
      "text/html": [
       "<div>\n",
       "<style scoped>\n",
       "    .dataframe tbody tr th:only-of-type {\n",
       "        vertical-align: middle;\n",
       "    }\n",
       "\n",
       "    .dataframe tbody tr th {\n",
       "        vertical-align: top;\n",
       "    }\n",
       "\n",
       "    .dataframe thead th {\n",
       "        text-align: right;\n",
       "    }\n",
       "</style>\n",
       "<table border=\"1\" class=\"dataframe\">\n",
       "  <thead>\n",
       "    <tr style=\"text-align: right;\">\n",
       "      <th></th>\n",
       "      <th>producto</th>\n",
       "      <th>presentacion</th>\n",
       "      <th>marca</th>\n",
       "      <th>categoria</th>\n",
       "      <th>catalogo</th>\n",
       "      <th>precio</th>\n",
       "      <th>fechaRegistro</th>\n",
       "      <th>cadenaComercial</th>\n",
       "      <th>giro</th>\n",
       "      <th>nombreComercial</th>\n",
       "      <th>direccion</th>\n",
       "      <th>estado</th>\n",
       "      <th>municipio</th>\n",
       "      <th>latitud</th>\n",
       "      <th>longitud</th>\n",
       "    </tr>\n",
       "  </thead>\n",
       "  <tbody>\n",
       "    <tr>\n",
       "      <th>0</th>\n",
       "      <td>CUADERNO FORMA ITALIANA</td>\n",
       "      <td>96 HOJAS PASTA DURA. CUADRICULA CHICA</td>\n",
       "      <td>ESTRELLA</td>\n",
       "      <td>MATERIAL ESCOLAR</td>\n",
       "      <td>UTILES ESCOLARES</td>\n",
       "      <td>25.9</td>\n",
       "      <td>2011-05-18</td>\n",
       "      <td>ABASTECEDORA LUMEN</td>\n",
       "      <td>PAPELERIAS</td>\n",
       "      <td>ABASTECEDORA LUMEN SUCURSAL VILLA COAPA</td>\n",
       "      <td>CANNES No. 6 ESQ. CANAL DE MIRAMONTES</td>\n",
       "      <td>DISTRITO FEDERAL</td>\n",
       "      <td>TLALPAN</td>\n",
       "      <td>19.29699</td>\n",
       "      <td>-99.125417</td>\n",
       "    </tr>\n",
       "    <tr>\n",
       "      <th>1</th>\n",
       "      <td>CRAYONES</td>\n",
       "      <td>CAJA 12 CERAS. JUMBO. C.B. 201423</td>\n",
       "      <td>CRAYOLA</td>\n",
       "      <td>MATERIAL ESCOLAR</td>\n",
       "      <td>UTILES ESCOLARES</td>\n",
       "      <td>27.5</td>\n",
       "      <td>2011-05-18</td>\n",
       "      <td>ABASTECEDORA LUMEN</td>\n",
       "      <td>PAPELERIAS</td>\n",
       "      <td>ABASTECEDORA LUMEN SUCURSAL VILLA COAPA</td>\n",
       "      <td>CANNES No. 6 ESQ. CANAL DE MIRAMONTES</td>\n",
       "      <td>DISTRITO FEDERAL</td>\n",
       "      <td>TLALPAN</td>\n",
       "      <td>19.29699</td>\n",
       "      <td>-99.125417</td>\n",
       "    </tr>\n",
       "    <tr>\n",
       "      <th>2</th>\n",
       "      <td>CRAYONES</td>\n",
       "      <td>CAJA 12 CERAS. TAMANO REGULAR C.B. 201034</td>\n",
       "      <td>CRAYOLA</td>\n",
       "      <td>MATERIAL ESCOLAR</td>\n",
       "      <td>UTILES ESCOLARES</td>\n",
       "      <td>13.9</td>\n",
       "      <td>2011-05-18</td>\n",
       "      <td>ABASTECEDORA LUMEN</td>\n",
       "      <td>PAPELERIAS</td>\n",
       "      <td>ABASTECEDORA LUMEN SUCURSAL VILLA COAPA</td>\n",
       "      <td>CANNES No. 6 ESQ. CANAL DE MIRAMONTES</td>\n",
       "      <td>DISTRITO FEDERAL</td>\n",
       "      <td>TLALPAN</td>\n",
       "      <td>19.29699</td>\n",
       "      <td>-99.125417</td>\n",
       "    </tr>\n",
       "    <tr>\n",
       "      <th>3</th>\n",
       "      <td>COLORES DE MADERA</td>\n",
       "      <td>CAJA 12 PIEZAS LARGO. TRIANGULAR. C.B. 640646</td>\n",
       "      <td>PINCELIN</td>\n",
       "      <td>MATERIAL ESCOLAR</td>\n",
       "      <td>UTILES ESCOLARES</td>\n",
       "      <td>46.9</td>\n",
       "      <td>2011-05-18</td>\n",
       "      <td>ABASTECEDORA LUMEN</td>\n",
       "      <td>PAPELERIAS</td>\n",
       "      <td>ABASTECEDORA LUMEN SUCURSAL VILLA COAPA</td>\n",
       "      <td>CANNES No. 6 ESQ. CANAL DE MIRAMONTES</td>\n",
       "      <td>DISTRITO FEDERAL</td>\n",
       "      <td>TLALPAN</td>\n",
       "      <td>19.29699</td>\n",
       "      <td>-99.125417</td>\n",
       "    </tr>\n",
       "    <tr>\n",
       "      <th>4</th>\n",
       "      <td>COLOR LARGO</td>\n",
       "      <td>CAJA 36 PIEZAS. CON SACAPUNTAS. 68-4036</td>\n",
       "      <td>CRAYOLA</td>\n",
       "      <td>MATERIAL ESCOLAR</td>\n",
       "      <td>UTILES ESCOLARES</td>\n",
       "      <td>115.0</td>\n",
       "      <td>2011-05-18</td>\n",
       "      <td>ABASTECEDORA LUMEN</td>\n",
       "      <td>PAPELERIAS</td>\n",
       "      <td>ABASTECEDORA LUMEN SUCURSAL VILLA COAPA</td>\n",
       "      <td>CANNES No. 6 ESQ. CANAL DE MIRAMONTES</td>\n",
       "      <td>DISTRITO FEDERAL</td>\n",
       "      <td>TLALPAN</td>\n",
       "      <td>19.29699</td>\n",
       "      <td>-99.125417</td>\n",
       "    </tr>\n",
       "  </tbody>\n",
       "</table>\n",
       "</div>"
      ],
      "text/plain": [
       "                  producto                                   presentacion  \\\n",
       "0  CUADERNO FORMA ITALIANA          96 HOJAS PASTA DURA. CUADRICULA CHICA   \n",
       "1                 CRAYONES              CAJA 12 CERAS. JUMBO. C.B. 201423   \n",
       "2                 CRAYONES      CAJA 12 CERAS. TAMANO REGULAR C.B. 201034   \n",
       "3        COLORES DE MADERA  CAJA 12 PIEZAS LARGO. TRIANGULAR. C.B. 640646   \n",
       "4              COLOR LARGO        CAJA 36 PIEZAS. CON SACAPUNTAS. 68-4036   \n",
       "\n",
       "      marca         categoria          catalogo  precio fechaRegistro  \\\n",
       "0  ESTRELLA  MATERIAL ESCOLAR  UTILES ESCOLARES    25.9    2011-05-18   \n",
       "1   CRAYOLA  MATERIAL ESCOLAR  UTILES ESCOLARES    27.5    2011-05-18   \n",
       "2   CRAYOLA  MATERIAL ESCOLAR  UTILES ESCOLARES    13.9    2011-05-18   \n",
       "3  PINCELIN  MATERIAL ESCOLAR  UTILES ESCOLARES    46.9    2011-05-18   \n",
       "4   CRAYOLA  MATERIAL ESCOLAR  UTILES ESCOLARES   115.0    2011-05-18   \n",
       "\n",
       "      cadenaComercial        giro                          nombreComercial  \\\n",
       "0  ABASTECEDORA LUMEN  PAPELERIAS  ABASTECEDORA LUMEN SUCURSAL VILLA COAPA   \n",
       "1  ABASTECEDORA LUMEN  PAPELERIAS  ABASTECEDORA LUMEN SUCURSAL VILLA COAPA   \n",
       "2  ABASTECEDORA LUMEN  PAPELERIAS  ABASTECEDORA LUMEN SUCURSAL VILLA COAPA   \n",
       "3  ABASTECEDORA LUMEN  PAPELERIAS  ABASTECEDORA LUMEN SUCURSAL VILLA COAPA   \n",
       "4  ABASTECEDORA LUMEN  PAPELERIAS  ABASTECEDORA LUMEN SUCURSAL VILLA COAPA   \n",
       "\n",
       "                               direccion            estado  \\\n",
       "0  CANNES No. 6 ESQ. CANAL DE MIRAMONTES  DISTRITO FEDERAL   \n",
       "1  CANNES No. 6 ESQ. CANAL DE MIRAMONTES  DISTRITO FEDERAL   \n",
       "2  CANNES No. 6 ESQ. CANAL DE MIRAMONTES  DISTRITO FEDERAL   \n",
       "3  CANNES No. 6 ESQ. CANAL DE MIRAMONTES  DISTRITO FEDERAL   \n",
       "4  CANNES No. 6 ESQ. CANAL DE MIRAMONTES  DISTRITO FEDERAL   \n",
       "\n",
       "                                  municipio   latitud   longitud  \n",
       "0  TLALPAN                                   19.29699 -99.125417  \n",
       "1  TLALPAN                                   19.29699 -99.125417  \n",
       "2  TLALPAN                                   19.29699 -99.125417  \n",
       "3  TLALPAN                                   19.29699 -99.125417  \n",
       "4  TLALPAN                                   19.29699 -99.125417  "
      ]
     },
     "execution_count": 4,
     "metadata": {},
     "output_type": "execute_result"
    }
   ],
   "source": [
    "df = pd.read_csv('data/sample.csv', sep=',', decimal = '.',parse_dates=['fechaRegistro'])\n",
    "df.head()"
   ]
  },
  {
   "cell_type": "markdown",
   "id": "bf03e288",
   "metadata": {},
   "source": [
    "### Verifying null values existence"
   ]
  },
  {
   "cell_type": "code",
   "execution_count": 5,
   "id": "4ffa834c",
   "metadata": {},
   "outputs": [
    {
     "data": {
      "text/plain": [
       "producto             0\n",
       "presentacion         0\n",
       "marca                0\n",
       "categoria            0\n",
       "catalogo             0\n",
       "precio               0\n",
       "fechaRegistro        0\n",
       "cadenaComercial      0\n",
       "giro                 0\n",
       "nombreComercial      0\n",
       "direccion            0\n",
       "estado               0\n",
       "municipio            0\n",
       "latitud            770\n",
       "longitud           770\n",
       "dtype: int64"
      ]
     },
     "execution_count": 5,
     "metadata": {},
     "output_type": "execute_result"
    }
   ],
   "source": [
    "df.isnull().sum()"
   ]
  },
  {
   "cell_type": "markdown",
   "id": "42e29b8c",
   "metadata": {},
   "source": [
    "#### There are some null values in latitud and longitud columns but it are not used to answer the question so we will ignore it for now."
   ]
  },
  {
   "cell_type": "markdown",
   "id": "54c2b5f9",
   "metadata": {},
   "source": [
    "### How many commercial chains are monitored, and therefore, included in this database?"
   ]
  },
  {
   "cell_type": "code",
   "execution_count": 5,
   "id": "3839e50c",
   "metadata": {},
   "outputs": [
    {
     "data": {
      "text/plain": [
       "cadenaComercial\n",
       "ABASTECEDORA LUMEN       9\n",
       "COMERCIAL MEXICANA    1508\n",
       "I.S.S.S.T.E.           195\n",
       "WAL-MART               287\n",
       "Name: cadenaComercial, dtype: int64"
      ]
     },
     "execution_count": 5,
     "metadata": {},
     "output_type": "execute_result"
    }
   ],
   "source": [
    "df.groupby(['cadenaComercial'])['cadenaComercial'].count()"
   ]
  },
  {
   "cell_type": "markdown",
   "id": "8140807b",
   "metadata": {},
   "source": [
    "#### Answer to question: 4"
   ]
  },
  {
   "cell_type": "markdown",
   "id": "08bd82ad",
   "metadata": {},
   "source": [
    "### What are the top 10 monitored products by State?"
   ]
  },
  {
   "cell_type": "code",
   "execution_count": 58,
   "id": "b4e387af",
   "metadata": {
    "scrolled": true
   },
   "outputs": [
    {
     "data": {
      "text/html": [
       "<div>\n",
       "<style scoped>\n",
       "    .dataframe tbody tr th:only-of-type {\n",
       "        vertical-align: middle;\n",
       "    }\n",
       "\n",
       "    .dataframe tbody tr th {\n",
       "        vertical-align: top;\n",
       "    }\n",
       "\n",
       "    .dataframe thead th {\n",
       "        text-align: right;\n",
       "    }\n",
       "</style>\n",
       "<table border=\"1\" class=\"dataframe\">\n",
       "  <thead>\n",
       "    <tr style=\"text-align: right;\">\n",
       "      <th></th>\n",
       "      <th></th>\n",
       "      <th>noItems</th>\n",
       "    </tr>\n",
       "    <tr>\n",
       "      <th>estado</th>\n",
       "      <th>producto</th>\n",
       "      <th></th>\n",
       "    </tr>\n",
       "  </thead>\n",
       "  <tbody>\n",
       "    <tr>\n",
       "      <th rowspan=\"10\" valign=\"top\">DISTRITO FEDERAL</th>\n",
       "      <th>DETERGENTE P/ROPA</th>\n",
       "      <td>25</td>\n",
       "    </tr>\n",
       "    <tr>\n",
       "      <th>LECHE ULTRAPASTEURIZADA</th>\n",
       "      <td>23</td>\n",
       "    </tr>\n",
       "    <tr>\n",
       "      <th>REFRESCO</th>\n",
       "      <td>22</td>\n",
       "    </tr>\n",
       "    <tr>\n",
       "      <th>CHILES EN LATA</th>\n",
       "      <td>21</td>\n",
       "    </tr>\n",
       "    <tr>\n",
       "      <th>MAYONESA</th>\n",
       "      <td>20</td>\n",
       "    </tr>\n",
       "    <tr>\n",
       "      <th>SHAMPOO</th>\n",
       "      <td>18</td>\n",
       "    </tr>\n",
       "    <tr>\n",
       "      <th>TELEVISORES</th>\n",
       "      <td>17</td>\n",
       "    </tr>\n",
       "    <tr>\n",
       "      <th>GALLETAS DULCES</th>\n",
       "      <td>16</td>\n",
       "    </tr>\n",
       "    <tr>\n",
       "      <th>JABON DE TOCADOR</th>\n",
       "      <td>16</td>\n",
       "    </tr>\n",
       "    <tr>\n",
       "      <th>PAN DE CAJA</th>\n",
       "      <td>14</td>\n",
       "    </tr>\n",
       "    <tr>\n",
       "      <th rowspan=\"10\" valign=\"top\">MÉXICO</th>\n",
       "      <th>REFRESCO</th>\n",
       "      <td>26</td>\n",
       "    </tr>\n",
       "    <tr>\n",
       "      <th>DETERGENTE P/ROPA</th>\n",
       "      <td>24</td>\n",
       "    </tr>\n",
       "    <tr>\n",
       "      <th>SHAMPOO</th>\n",
       "      <td>19</td>\n",
       "    </tr>\n",
       "    <tr>\n",
       "      <th>CHILES EN LATA</th>\n",
       "      <td>18</td>\n",
       "    </tr>\n",
       "    <tr>\n",
       "      <th>TOALLA FEMENINA</th>\n",
       "      <td>17</td>\n",
       "    </tr>\n",
       "    <tr>\n",
       "      <th>MAYONESA</th>\n",
       "      <td>17</td>\n",
       "    </tr>\n",
       "    <tr>\n",
       "      <th>LECHE ULTRAPASTEURIZADA</th>\n",
       "      <td>17</td>\n",
       "    </tr>\n",
       "    <tr>\n",
       "      <th>YOGHURT</th>\n",
       "      <td>15</td>\n",
       "    </tr>\n",
       "    <tr>\n",
       "      <th>DESODORANTE</th>\n",
       "      <td>15</td>\n",
       "    </tr>\n",
       "    <tr>\n",
       "      <th>TELEVISORES</th>\n",
       "      <td>15</td>\n",
       "    </tr>\n",
       "  </tbody>\n",
       "</table>\n",
       "</div>"
      ],
      "text/plain": [
       "                                          noItems\n",
       "estado           producto                        \n",
       "DISTRITO FEDERAL DETERGENTE P/ROPA             25\n",
       "                 LECHE ULTRAPASTEURIZADA       23\n",
       "                 REFRESCO                      22\n",
       "                 CHILES EN LATA                21\n",
       "                 MAYONESA                      20\n",
       "                 SHAMPOO                       18\n",
       "                 TELEVISORES                   17\n",
       "                 GALLETAS DULCES               16\n",
       "                 JABON DE TOCADOR              16\n",
       "                 PAN DE CAJA                   14\n",
       "MÉXICO           REFRESCO                      26\n",
       "                 DETERGENTE P/ROPA             24\n",
       "                 SHAMPOO                       19\n",
       "                 CHILES EN LATA                18\n",
       "                 TOALLA FEMENINA               17\n",
       "                 MAYONESA                      17\n",
       "                 LECHE ULTRAPASTEURIZADA       17\n",
       "                 YOGHURT                       15\n",
       "                 DESODORANTE                   15\n",
       "                 TELEVISORES                   15"
      ]
     },
     "execution_count": 58,
     "metadata": {},
     "output_type": "execute_result"
    }
   ],
   "source": [
    "df.groupby(['estado','producto']).agg(noItems=('producto', 'count')).reset_index().groupby(['estado']).apply(lambda x: x.sort_values(['noItems'],ascending = False)).reset_index(drop=True).groupby(['estado']).head(10).set_index(['estado','producto'])"
   ]
  },
  {
   "cell_type": "markdown",
   "id": "c8fcf6e0",
   "metadata": {},
   "source": [
    "#### Answer to question: Entire table"
   ]
  },
  {
   "cell_type": "markdown",
   "id": "71fdb7b1",
   "metadata": {},
   "source": [
    "### Which is the commercial chain with the highest number of monitored products?"
   ]
  },
  {
   "cell_type": "code",
   "execution_count": 82,
   "id": "e00d996a",
   "metadata": {},
   "outputs": [
    {
     "data": {
      "text/plain": [
       "cadenaComercial\n",
       "COMERCIAL MEXICANA    1508\n",
       "Name: producto, dtype: int64"
      ]
     },
     "execution_count": 82,
     "metadata": {},
     "output_type": "execute_result"
    }
   ],
   "source": [
    "df.groupby(['cadenaComercial'])['producto'].count().sort_values().tail(1)\n",
    "\n"
   ]
  },
  {
   "cell_type": "markdown",
   "id": "838ec67f",
   "metadata": {},
   "source": [
    "#### Answer to question: Comercial Mexicana"
   ]
  },
  {
   "cell_type": "markdown",
   "id": "eb3501d9",
   "metadata": {},
   "source": [
    "## Second Approach: entire dataset"
   ]
  },
  {
   "cell_type": "markdown",
   "id": "54628d3b",
   "metadata": {},
   "source": [
    "### I made some attempts to load the dataset but my pc can't handle it, those attempts are 1) and 2), and finally third attempt was the final solution."
   ]
  },
  {
   "cell_type": "markdown",
   "id": "5cfcf61b",
   "metadata": {},
   "source": [
    "1) ( don't run it if you don't want to see your computer die ;D ) "
   ]
  },
  {
   "cell_type": "code",
   "execution_count": null,
   "id": "ab620fb4",
   "metadata": {},
   "outputs": [],
   "source": [
    "dfFull = pd.read_csv('data/all_data.csv', sep=',', decimal = '.',parse_dates=['fechaRegistro'])\n",
    "dfFull.head()"
   ]
  },
  {
   "cell_type": "markdown",
   "id": "733ccb27",
   "metadata": {},
   "source": [
    "2) i tried using chunks but was not enough (don't execute, please continue to next solution :) )"
   ]
  },
  {
   "cell_type": "code",
   "execution_count": null,
   "id": "bafe916e",
   "metadata": {},
   "outputs": [],
   "source": [
    "dfFull=[]\n",
    "with pd.read_csv('data/all_data.csv', sep=',', decimal = '.',parse_dates=['fechaRegistro'], chunksize=1000000) as reader:\n",
    "    for chunk in reader:\n",
    "        dfFull.append(chunk)\n",
    "df = pd.concat(dfFull,sort=False)\n",
    "df.head(5)"
   ]
  },
  {
   "cell_type": "markdown",
   "id": "5fe8b009",
   "metadata": {},
   "source": [
    "Since the entire dataset is so big, maybe next tasks could help:\n",
    " - 1) Use parallelization.\n",
    " - 2) Reduce and transform dataset if it's possible."
   ]
  },
  {
   "cell_type": "markdown",
   "id": "92a8f516",
   "metadata": {},
   "source": [
    "The implementation of first task was realized using dask framework to parallelize the processing of entire dataset:\n",
    "\n",
    "In the second task I took next decisions:\n",
    "\n",
    "    a) keep the three indispensable columns to answer the questions: (cadenaComercial, estado, producto).\n",
    "    b) very hard decision: discard column presentacion, In the dataset it is clearly seen that there are products that have several presentations, so probably question 2 should include the grouping by state, product and presentation, however, I discard it because the question only asks to group by product.\n",
    "    c) discard columns direccion, latitud, longitud and municipio because it aren't relevant to answer the questions and we already have estado column to represent the location in a general way.\n",
    "    d) discard column nombreComercial because represents almost same information that cadenaComercial.\n",
    "    e) discard columns catalogo and giro because aren't relevant to answer the questions. \n",
    "    f) keep categoria and marca because i'd like to know which are the most monitorized products by categoria and marca.\n",
    "    g) discard fechaRegistro column because is not relevant to answer the questions, this column could be very interesting if we treat this problem as a time series but it's out of scope for this exercise."
   ]
  },
  {
   "cell_type": "code",
   "execution_count": 10,
   "id": "bf51c805",
   "metadata": {},
   "outputs": [
    {
     "data": {
      "text/html": [
       "<div>\n",
       "<style scoped>\n",
       "    .dataframe tbody tr th:only-of-type {\n",
       "        vertical-align: middle;\n",
       "    }\n",
       "\n",
       "    .dataframe tbody tr th {\n",
       "        vertical-align: top;\n",
       "    }\n",
       "\n",
       "    .dataframe thead th {\n",
       "        text-align: right;\n",
       "    }\n",
       "</style>\n",
       "<table border=\"1\" class=\"dataframe\">\n",
       "  <thead>\n",
       "    <tr style=\"text-align: right;\">\n",
       "      <th></th>\n",
       "      <th>producto</th>\n",
       "      <th>presentacion</th>\n",
       "      <th>marca</th>\n",
       "      <th>categoria</th>\n",
       "      <th>cadenaComercial</th>\n",
       "      <th>estado</th>\n",
       "    </tr>\n",
       "  </thead>\n",
       "  <tbody>\n",
       "    <tr>\n",
       "      <th>0</th>\n",
       "      <td>CUADERNO FORMA ITALIANA</td>\n",
       "      <td>96 HOJAS PASTA DURA. CUADRICULA CHICA</td>\n",
       "      <td>ESTRELLA</td>\n",
       "      <td>MATERIAL ESCOLAR</td>\n",
       "      <td>ABASTECEDORA LUMEN</td>\n",
       "      <td>DISTRITO FEDERAL</td>\n",
       "    </tr>\n",
       "    <tr>\n",
       "      <th>1</th>\n",
       "      <td>CRAYONES</td>\n",
       "      <td>CAJA 12 CERAS. JUMBO. C.B. 201423</td>\n",
       "      <td>CRAYOLA</td>\n",
       "      <td>MATERIAL ESCOLAR</td>\n",
       "      <td>ABASTECEDORA LUMEN</td>\n",
       "      <td>DISTRITO FEDERAL</td>\n",
       "    </tr>\n",
       "    <tr>\n",
       "      <th>2</th>\n",
       "      <td>CRAYONES</td>\n",
       "      <td>CAJA 12 CERAS. TAMANO REGULAR C.B. 201034</td>\n",
       "      <td>CRAYOLA</td>\n",
       "      <td>MATERIAL ESCOLAR</td>\n",
       "      <td>ABASTECEDORA LUMEN</td>\n",
       "      <td>DISTRITO FEDERAL</td>\n",
       "    </tr>\n",
       "    <tr>\n",
       "      <th>3</th>\n",
       "      <td>COLORES DE MADERA</td>\n",
       "      <td>CAJA 12 PIEZAS LARGO. TRIANGULAR. C.B. 640646</td>\n",
       "      <td>PINCELIN</td>\n",
       "      <td>MATERIAL ESCOLAR</td>\n",
       "      <td>ABASTECEDORA LUMEN</td>\n",
       "      <td>DISTRITO FEDERAL</td>\n",
       "    </tr>\n",
       "    <tr>\n",
       "      <th>4</th>\n",
       "      <td>COLOR LARGO</td>\n",
       "      <td>CAJA 36 PIEZAS. CON SACAPUNTAS. 68-4036</td>\n",
       "      <td>CRAYOLA</td>\n",
       "      <td>MATERIAL ESCOLAR</td>\n",
       "      <td>ABASTECEDORA LUMEN</td>\n",
       "      <td>DISTRITO FEDERAL</td>\n",
       "    </tr>\n",
       "  </tbody>\n",
       "</table>\n",
       "</div>"
      ],
      "text/plain": [
       "                  producto                                   presentacion  \\\n",
       "0  CUADERNO FORMA ITALIANA          96 HOJAS PASTA DURA. CUADRICULA CHICA   \n",
       "1                 CRAYONES              CAJA 12 CERAS. JUMBO. C.B. 201423   \n",
       "2                 CRAYONES      CAJA 12 CERAS. TAMANO REGULAR C.B. 201034   \n",
       "3        COLORES DE MADERA  CAJA 12 PIEZAS LARGO. TRIANGULAR. C.B. 640646   \n",
       "4              COLOR LARGO        CAJA 36 PIEZAS. CON SACAPUNTAS. 68-4036   \n",
       "\n",
       "      marca         categoria     cadenaComercial            estado  \n",
       "0  ESTRELLA  MATERIAL ESCOLAR  ABASTECEDORA LUMEN  DISTRITO FEDERAL  \n",
       "1   CRAYOLA  MATERIAL ESCOLAR  ABASTECEDORA LUMEN  DISTRITO FEDERAL  \n",
       "2   CRAYOLA  MATERIAL ESCOLAR  ABASTECEDORA LUMEN  DISTRITO FEDERAL  \n",
       "3  PINCELIN  MATERIAL ESCOLAR  ABASTECEDORA LUMEN  DISTRITO FEDERAL  \n",
       "4   CRAYOLA  MATERIAL ESCOLAR  ABASTECEDORA LUMEN  DISTRITO FEDERAL  "
      ]
     },
     "execution_count": 10,
     "metadata": {},
     "output_type": "execute_result"
    }
   ],
   "source": [
    "dfFull = dd.read_csv('data/all_data.csv', sep=',', decimal = '.',usecols=['categoria','cadenaComercial','estado','producto','marca'])\n",
    "dfFull.head()"
   ]
  },
  {
   "cell_type": "markdown",
   "id": "c78fb0fa",
   "metadata": {},
   "source": [
    "### 1) How many commercial chains are monitored, and therefore, included in this database?"
   ]
  },
  {
   "cell_type": "code",
   "execution_count": 7,
   "id": "f826bec5",
   "metadata": {},
   "outputs": [
    {
     "data": {
      "text/plain": [
       "cadenaComercial\n",
       "7 ELEVEN                                    55946\n",
       "ABARROTERA DE TLAXCALA                      10941\n",
       "ABARROTERA GUADALUPANA (FRUTAS)             50422\n",
       "ABARROTERA SANCHEZ                          29425\n",
       "ABARROTES ARTES                              4655\n",
       "                                            ...  \n",
       "MERCADO  GENERAL EMILIANO ZAPATA SALAZAR      313\n",
       "PESCADERIA EL MALECON                          17\n",
       "BOTICA KENT TLAXCALA                           73\n",
       "MUEBLERIA ALMACENES DEL NORTE                  21\n",
       "MINISUPER MERCADO TOGUZ                        78\n",
       "Name: cadenaComercial, Length: 705, dtype: int64"
      ]
     },
     "execution_count": 7,
     "metadata": {},
     "output_type": "execute_result"
    }
   ],
   "source": [
    "dfFull.groupby(['cadenaComercial'])['cadenaComercial'].count().compute()"
   ]
  },
  {
   "cell_type": "markdown",
   "id": "0e01f6d3",
   "metadata": {},
   "source": [
    "#### Answer to question: 705"
   ]
  },
  {
   "cell_type": "markdown",
   "id": "69cd61a3",
   "metadata": {},
   "source": [
    "### 2) What are the top 10 monitored products by State?"
   ]
  },
  {
   "cell_type": "code",
   "execution_count": 8,
   "id": "f1656ae5",
   "metadata": {
    "scrolled": true
   },
   "outputs": [
    {
     "ename": "NotImplementedError",
     "evalue": "Dask dataframe does not yet support multi-indexes.\nYou tried to index with this index: ['estado', 'producto']\nIndexes must be single columns only.",
     "output_type": "error",
     "traceback": [
      "\u001b[0;31m---------------------------------------------------------------------------\u001b[0m",
      "\u001b[0;31mNotImplementedError\u001b[0m                       Traceback (most recent call last)",
      "\u001b[0;32m/tmp/ipykernel_3246695/222529336.py\u001b[0m in \u001b[0;36m<module>\u001b[0;34m\u001b[0m\n\u001b[1;32m      5\u001b[0m )  \n\u001b[1;32m      6\u001b[0m \u001b[0;34m\u001b[0m\u001b[0m\n\u001b[0;32m----> 7\u001b[0;31m \u001b[0mdfA\u001b[0m \u001b[0;34m=\u001b[0m \u001b[0mdfFull\u001b[0m\u001b[0;34m[\u001b[0m\u001b[0;34m[\u001b[0m\u001b[0;34m'estado'\u001b[0m\u001b[0;34m,\u001b[0m\u001b[0;34m'producto'\u001b[0m\u001b[0;34m]\u001b[0m\u001b[0;34m]\u001b[0m\u001b[0;34m.\u001b[0m\u001b[0mset_index\u001b[0m\u001b[0;34m(\u001b[0m\u001b[0;34m[\u001b[0m\u001b[0;34m'estado'\u001b[0m\u001b[0;34m,\u001b[0m\u001b[0;34m'producto'\u001b[0m\u001b[0;34m]\u001b[0m\u001b[0;34m)\u001b[0m\u001b[0;34m\u001b[0m\u001b[0;34m\u001b[0m\u001b[0m\n\u001b[0m\u001b[1;32m      8\u001b[0m \u001b[0mdfA\u001b[0m\u001b[0;34m.\u001b[0m\u001b[0mgroupby\u001b[0m\u001b[0;34m(\u001b[0m\u001b[0;34m[\u001b[0m\u001b[0;34m'estado'\u001b[0m\u001b[0;34m,\u001b[0m\u001b[0;34m'producto'\u001b[0m\u001b[0;34m]\u001b[0m\u001b[0;34m)\u001b[0m\u001b[0;34m.\u001b[0m\u001b[0magg\u001b[0m\u001b[0;34m(\u001b[0m\u001b[0mcustom_count\u001b[0m\u001b[0;34m)\u001b[0m\u001b[0;34m.\u001b[0m\u001b[0mcompute\u001b[0m\u001b[0;34m(\u001b[0m\u001b[0;34m)\u001b[0m\u001b[0;34m\u001b[0m\u001b[0;34m\u001b[0m\u001b[0m\n",
      "\u001b[0;32m/usr/local/lib/python3.9/site-packages/dask/dataframe/core.py\u001b[0m in \u001b[0;36mset_index\u001b[0;34m(***failed resolving arguments***)\u001b[0m\n\u001b[1;32m   4324\u001b[0m             \u001b[0;32mfrom\u001b[0m \u001b[0;34m.\u001b[0m\u001b[0mshuffle\u001b[0m \u001b[0;32mimport\u001b[0m \u001b[0mset_index\u001b[0m\u001b[0;34m\u001b[0m\u001b[0;34m\u001b[0m\u001b[0m\n\u001b[1;32m   4325\u001b[0m \u001b[0;34m\u001b[0m\u001b[0m\n\u001b[0;32m-> 4326\u001b[0;31m             return set_index(\n\u001b[0m\u001b[1;32m   4327\u001b[0m                 \u001b[0mself\u001b[0m\u001b[0;34m,\u001b[0m\u001b[0;34m\u001b[0m\u001b[0;34m\u001b[0m\u001b[0m\n\u001b[1;32m   4328\u001b[0m                 \u001b[0mother\u001b[0m\u001b[0;34m,\u001b[0m\u001b[0;34m\u001b[0m\u001b[0;34m\u001b[0m\u001b[0m\n",
      "\u001b[0;32m/usr/local/lib/python3.9/site-packages/dask/dataframe/shuffle.py\u001b[0m in \u001b[0;36mset_index\u001b[0;34m(df, index, npartitions, shuffle, compute, drop, upsample, divisions, partition_size, **kwargs)\u001b[0m\n\u001b[1;32m    149\u001b[0m             \u001b[0mindex\u001b[0m \u001b[0;34m=\u001b[0m \u001b[0mindex\u001b[0m\u001b[0;34m[\u001b[0m\u001b[0;36m0\u001b[0m\u001b[0;34m]\u001b[0m\u001b[0;34m\u001b[0m\u001b[0;34m\u001b[0m\u001b[0m\n\u001b[1;32m    150\u001b[0m         \u001b[0;32melse\u001b[0m\u001b[0;34m:\u001b[0m\u001b[0;34m\u001b[0m\u001b[0;34m\u001b[0m\u001b[0m\n\u001b[0;32m--> 151\u001b[0;31m             raise NotImplementedError(\n\u001b[0m\u001b[1;32m    152\u001b[0m                 \u001b[0;34m\"Dask dataframe does not yet support multi-indexes.\\n\"\u001b[0m\u001b[0;34m\u001b[0m\u001b[0;34m\u001b[0m\u001b[0m\n\u001b[1;32m    153\u001b[0m                 \u001b[0;34m\"You tried to index with this index: %s\\n\"\u001b[0m\u001b[0;34m\u001b[0m\u001b[0;34m\u001b[0m\u001b[0m\n",
      "\u001b[0;31mNotImplementedError\u001b[0m: Dask dataframe does not yet support multi-indexes.\nYou tried to index with this index: ['estado', 'producto']\nIndexes must be single columns only."
     ]
    }
   ],
   "source": [
    "custom_count = dd.Aggregation(\n",
    "    name='noItems',\n",
    "    chunk=lambda s0: s0.count(),\n",
    "    agg=lambda s0: s0.count()\n",
    ")  \n",
    "\n",
    "dfA = dfFull[['estado','producto']].set_index(['estado','producto'])\n",
    "dfA.groupby(['estado','producto']).agg(custom_count).compute()\n"
   ]
  },
  {
   "cell_type": "markdown",
   "id": "eb332201",
   "metadata": {},
   "source": [
    "#### The error indicates that we can't use dask with multi-index so i'll try to solve this problem with pandas dataframes"
   ]
  },
  {
   "cell_type": "code",
   "execution_count": 3,
   "id": "b9acd3a0",
   "metadata": {},
   "outputs": [],
   "source": [
    "dfA = pd.read_csv('data/all_data.csv', sep=',', decimal = '.',usecols=['estado','producto'])\n",
    "dfA = dfA.groupby(['estado','producto']).agg(noItems=('producto', 'count')).reset_index().groupby(['estado']).apply(lambda x: x.sort_values(['noItems'],ascending = False)).reset_index(drop=True).groupby(['estado']).head(10).set_index(['estado','producto'])"
   ]
  },
  {
   "cell_type": "code",
   "execution_count": 4,
   "id": "962f0aa3",
   "metadata": {},
   "outputs": [
    {
     "data": {
      "text/html": [
       "<div>\n",
       "<style scoped>\n",
       "    .dataframe tbody tr th:only-of-type {\n",
       "        vertical-align: middle;\n",
       "    }\n",
       "\n",
       "    .dataframe tbody tr th {\n",
       "        vertical-align: top;\n",
       "    }\n",
       "\n",
       "    .dataframe thead th {\n",
       "        text-align: right;\n",
       "    }\n",
       "</style>\n",
       "<table border=\"1\" class=\"dataframe\">\n",
       "  <thead>\n",
       "    <tr style=\"text-align: right;\">\n",
       "      <th></th>\n",
       "      <th></th>\n",
       "      <th>noItems</th>\n",
       "    </tr>\n",
       "    <tr>\n",
       "      <th>estado</th>\n",
       "      <th>producto</th>\n",
       "      <th></th>\n",
       "    </tr>\n",
       "  </thead>\n",
       "  <tbody>\n",
       "    <tr>\n",
       "      <th rowspan=\"5\" valign=\"top\">AGUASCALIENTES</th>\n",
       "      <th>FUD</th>\n",
       "      <td>12005</td>\n",
       "    </tr>\n",
       "    <tr>\n",
       "      <th>DETERGENTE P/ROPA</th>\n",
       "      <td>10188</td>\n",
       "    </tr>\n",
       "    <tr>\n",
       "      <th>LECHE ULTRAPASTEURIZADA</th>\n",
       "      <td>9824</td>\n",
       "    </tr>\n",
       "    <tr>\n",
       "      <th>SHAMPOO</th>\n",
       "      <td>9654</td>\n",
       "    </tr>\n",
       "    <tr>\n",
       "      <th>REFRESCO</th>\n",
       "      <td>9481</td>\n",
       "    </tr>\n",
       "    <tr>\n",
       "      <th>...</th>\n",
       "      <th>...</th>\n",
       "      <td>...</td>\n",
       "    </tr>\n",
       "    <tr>\n",
       "      <th rowspan=\"4\" valign=\"top\">ZACATECAS</th>\n",
       "      <th>SHAMPOO</th>\n",
       "      <td>15012</td>\n",
       "    </tr>\n",
       "    <tr>\n",
       "      <th>CHILES EN LATA</th>\n",
       "      <td>14866</td>\n",
       "    </tr>\n",
       "    <tr>\n",
       "      <th>COMPONENTES DE AUDIO</th>\n",
       "      <td>14799</td>\n",
       "    </tr>\n",
       "    <tr>\n",
       "      <th>REFRESCO</th>\n",
       "      <td>13925</td>\n",
       "    </tr>\n",
       "    <tr>\n",
       "      <th>estado</th>\n",
       "      <th>producto</th>\n",
       "      <td>20</td>\n",
       "    </tr>\n",
       "  </tbody>\n",
       "</table>\n",
       "<p>321 rows × 1 columns</p>\n",
       "</div>"
      ],
      "text/plain": [
       "                                        noItems\n",
       "estado         producto                        \n",
       "AGUASCALIENTES FUD                        12005\n",
       "               DETERGENTE P/ROPA          10188\n",
       "               LECHE ULTRAPASTEURIZADA     9824\n",
       "               SHAMPOO                     9654\n",
       "               REFRESCO                    9481\n",
       "...                                         ...\n",
       "ZACATECAS      SHAMPOO                    15012\n",
       "               CHILES EN LATA             14866\n",
       "               COMPONENTES DE AUDIO       14799\n",
       "               REFRESCO                   13925\n",
       "estado         producto                      20\n",
       "\n",
       "[321 rows x 1 columns]"
      ]
     },
     "execution_count": 4,
     "metadata": {},
     "output_type": "execute_result"
    }
   ],
   "source": [
    "dfA"
   ]
  },
  {
   "cell_type": "markdown",
   "id": "77494ba5",
   "metadata": {},
   "source": [
    "#### Answer to question: Entire table above.\n",
    "#### Note: We can see that there are trash rows with values 'estado' and 'producto' literally so we can consider to drop those values in a future iteration of data cleaning process."
   ]
  },
  {
   "cell_type": "markdown",
   "id": "3ab6d1c2",
   "metadata": {},
   "source": [
    "### 3) Which is the commercial chain with the highest number of monitored products?"
   ]
  },
  {
   "cell_type": "code",
   "execution_count": 7,
   "id": "68bdc937",
   "metadata": {},
   "outputs": [
    {
     "data": {
      "text/plain": [
       "cadenaComercial\n",
       "WAL-MART    8643133\n",
       "Name: producto, dtype: int64"
      ]
     },
     "execution_count": 7,
     "metadata": {},
     "output_type": "execute_result"
    }
   ],
   "source": [
    "dfFull.groupby(['cadenaComercial'])['producto'].count().compute().sort_values().tail(1)\n",
    "\n"
   ]
  },
  {
   "cell_type": "markdown",
   "id": "6fdc2183",
   "metadata": {},
   "source": [
    "#### Answer to question: Walmart"
   ]
  },
  {
   "cell_type": "markdown",
   "id": "e1b4f121",
   "metadata": {},
   "source": [
    "### 4) Use data to find an interest fact"
   ]
  },
  {
   "cell_type": "markdown",
   "id": "e511cf3e",
   "metadata": {},
   "source": [
    "#### I'd like to know what are the three most reliable brands of each category to know what should i choose when i need to buy some product. I am going to assume that the most monitored products are the ones with the most complaints, so I will look for the brands that have the least monitored products to define them as the most reliable."
   ]
  },
  {
   "cell_type": "code",
   "execution_count": 11,
   "id": "f13a811d",
   "metadata": {},
   "outputs": [],
   "source": [
    "dfB = pd.read_csv('data/all_data.csv', sep=',', decimal = '.',usecols=['categoria','marca'])\n",
    "dfB = dfB.groupby(['categoria','marca']).agg(noItems=('marca', 'count')).reset_index().groupby(['categoria']).apply(lambda x: x.sort_values(['noItems'],ascending = True)).reset_index(drop=True).groupby(['categoria']).head(3).set_index(['categoria','marca'])"
   ]
  },
  {
   "cell_type": "code",
   "execution_count": 13,
   "id": "0ef3b5e3",
   "metadata": {},
   "outputs": [
    {
     "data": {
      "text/html": [
       "<div>\n",
       "<style scoped>\n",
       "    .dataframe tbody tr th:only-of-type {\n",
       "        vertical-align: middle;\n",
       "    }\n",
       "\n",
       "    .dataframe tbody tr th {\n",
       "        vertical-align: top;\n",
       "    }\n",
       "\n",
       "    .dataframe thead th {\n",
       "        text-align: right;\n",
       "    }\n",
       "</style>\n",
       "<table border=\"1\" class=\"dataframe\">\n",
       "  <thead>\n",
       "    <tr style=\"text-align: right;\">\n",
       "      <th></th>\n",
       "      <th></th>\n",
       "      <th>noItems</th>\n",
       "    </tr>\n",
       "    <tr>\n",
       "      <th>categoria</th>\n",
       "      <th>marca</th>\n",
       "      <th></th>\n",
       "    </tr>\n",
       "  </thead>\n",
       "  <tbody>\n",
       "    <tr>\n",
       "      <th rowspan=\"3\" valign=\"top\">ACCESORIOS DOMESTICOS</th>\n",
       "      <th>GOLDEN HILLS</th>\n",
       "      <td>71</td>\n",
       "    </tr>\n",
       "    <tr>\n",
       "      <th>PHILIPS</th>\n",
       "      <td>75</td>\n",
       "    </tr>\n",
       "    <tr>\n",
       "      <th>MARCA INSTITUCIONAL</th>\n",
       "      <td>540</td>\n",
       "    </tr>\n",
       "    <tr>\n",
       "      <th rowspan=\"2\" valign=\"top\">ACEITES Y GRASAS VEG. COMESTIBLES</th>\n",
       "      <th>IBERIA</th>\n",
       "      <td>4</td>\n",
       "    </tr>\n",
       "    <tr>\n",
       "      <th>COCINERA</th>\n",
       "      <td>199</td>\n",
       "    </tr>\n",
       "    <tr>\n",
       "      <th>...</th>\n",
       "      <th>...</th>\n",
       "      <td>...</td>\n",
       "    </tr>\n",
       "    <tr>\n",
       "      <th>UTENSILIOS DOMESTICOS</th>\n",
       "      <th>OSTER</th>\n",
       "      <td>755</td>\n",
       "    </tr>\n",
       "    <tr>\n",
       "      <th rowspan=\"3\" valign=\"top\">VINOS Y LICORES</th>\n",
       "      <th>MONOPOLE</th>\n",
       "      <td>2</td>\n",
       "    </tr>\n",
       "    <tr>\n",
       "      <th>SANTA EMILIANA</th>\n",
       "      <td>7</td>\n",
       "    </tr>\n",
       "    <tr>\n",
       "      <th>RISCAL S.L.</th>\n",
       "      <td>12</td>\n",
       "    </tr>\n",
       "    <tr>\n",
       "      <th>categoria</th>\n",
       "      <th>marca</th>\n",
       "      <td>20</td>\n",
       "    </tr>\n",
       "  </tbody>\n",
       "</table>\n",
       "<p>106 rows × 1 columns</p>\n",
       "</div>"
      ],
      "text/plain": [
       "                                                       noItems\n",
       "categoria                         marca                       \n",
       "ACCESORIOS DOMESTICOS             GOLDEN HILLS              71\n",
       "                                  PHILIPS                   75\n",
       "                                  MARCA INSTITUCIONAL      540\n",
       "ACEITES Y GRASAS VEG. COMESTIBLES IBERIA                     4\n",
       "                                  COCINERA                 199\n",
       "...                                                        ...\n",
       "UTENSILIOS DOMESTICOS             OSTER                    755\n",
       "VINOS Y LICORES                   MONOPOLE                   2\n",
       "                                  SANTA EMILIANA             7\n",
       "                                  RISCAL S.L.               12\n",
       "categoria                         marca                     20\n",
       "\n",
       "[106 rows x 1 columns]"
      ]
     },
     "execution_count": 13,
     "metadata": {},
     "output_type": "execute_result"
    }
   ],
   "source": [
    "dfB"
   ]
  },
  {
   "cell_type": "markdown",
   "id": "e9e157ad",
   "metadata": {},
   "source": [
    "### 5. What are the lessons learned from this exercise?"
   ]
  },
  {
   "cell_type": "markdown",
   "id": "8fd536f9",
   "metadata": {},
   "source": [
    "####  I learned:\n",
    "    a) when we have big datasets we need to use more sophisticated techniques to process it, after some failed attempts to process with common techniques (load all dataset in memory), i had to use dask to parallelize the processing and optimize memory.\n",
    "    b) limitation of dask, it doesn't work with multi-index\n",
    "    c) is very important to do many iterations of data cleaning in big datasets, it's very hard to find all the useless data in only one iteration, i found it near the end of the exercise. In this exercise I did many tests and I discovered that columns 'precio' and 'fechaRegistro' needed treatment because it has different incorrect formats.\n",
    "    d) sometimes the decisions made can be difficult as discard the column presentacion, i'm not sure if i should have done it."
   ]
  },
  {
   "cell_type": "markdown",
   "id": "3b2f4954",
   "metadata": {},
   "source": [
    "### 6. Can you identify other ways to approach this problem? Explain.\n"
   ]
  },
  {
   "cell_type": "markdown",
   "id": "074ab008",
   "metadata": {},
   "source": [
    "Use architectures where there is batch processing for this type of large datasets and streaming processing for real-time data processing"
   ]
  },
  {
   "cell_type": "code",
   "execution_count": null,
   "id": "1d38bab0",
   "metadata": {},
   "outputs": [],
   "source": []
  }
 ],
 "metadata": {
  "kernelspec": {
   "display_name": "Python 3 (ipykernel)",
   "language": "python",
   "name": "python3"
  },
  "language_info": {
   "codemirror_mode": {
    "name": "ipython",
    "version": 3
   },
   "file_extension": ".py",
   "mimetype": "text/x-python",
   "name": "python",
   "nbconvert_exporter": "python",
   "pygments_lexer": "ipython3",
   "version": "3.9.6"
  }
 },
 "nbformat": 4,
 "nbformat_minor": 5
}
